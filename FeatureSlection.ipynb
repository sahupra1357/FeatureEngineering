{
  "nbformat": 4,
  "nbformat_minor": 0,
  "metadata": {
    "colab": {
      "name": "FeatureSlection.ipynb",
      "provenance": [],
      "authorship_tag": "ABX9TyPugxFhQveAlMDFFDk4oDME",
      "include_colab_link": true
    },
    "kernelspec": {
      "name": "python3",
      "display_name": "Python 3"
    },
    "language_info": {
      "name": "python"
    }
  },
  "cells": [
    {
      "cell_type": "markdown",
      "metadata": {
        "id": "view-in-github",
        "colab_type": "text"
      },
      "source": [
        "<a href=\"https://colab.research.google.com/github/sahupra1357/FeatureEngineering/blob/main/FeatureSlection.ipynb\" target=\"_parent\"><img src=\"https://colab.research.google.com/assets/colab-badge.svg\" alt=\"Open In Colab\"/></a>"
      ]
    },
    {
      "cell_type": "code",
      "metadata": {
        "colab": {
          "base_uri": "https://localhost:8080/"
        },
        "id": "JZNdDZvvzajR",
        "outputId": "d4ba5a8a-8c18-4ad0-9222-acb5e5a67c6e"
      },
      "source": [
        "!pip install -U -q kaggle==1.5.8"
      ],
      "execution_count": null,
      "outputs": [
        {
          "output_type": "stream",
          "name": "stdout",
          "text": [
            "\u001b[?25l\r\u001b[K     |█████▌                          | 10 kB 23.3 MB/s eta 0:00:01\r\u001b[K     |███████████                     | 20 kB 23.9 MB/s eta 0:00:01\r\u001b[K     |████████████████▋               | 30 kB 26.5 MB/s eta 0:00:01\r\u001b[K     |██████████████████████▏         | 40 kB 27.3 MB/s eta 0:00:01\r\u001b[K     |███████████████████████████▊    | 51 kB 23.3 MB/s eta 0:00:01\r\u001b[K     |████████████████████████████████| 59 kB 3.5 MB/s \n",
            "\u001b[?25h  Building wheel for kaggle (setup.py) ... \u001b[?25l\u001b[?25hdone\n",
            "  Building wheel for slugify (setup.py) ... \u001b[?25l\u001b[?25hdone\n"
          ]
        }
      ]
    }
  ]
}